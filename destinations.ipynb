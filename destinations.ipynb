{
 "cells": [
  {
   "cell_type": "code",
   "execution_count": 3,
   "metadata": {},
   "outputs": [],
   "source": [
    "import pandas as pd\n",
    "import branca\n",
    "import folium"
   ]
  },
  {
   "cell_type": "code",
   "execution_count": 4,
   "metadata": {},
   "outputs": [],
   "source": [
    "airports = pd.read_csv('airports.csv')"
   ]
  },
  {
   "cell_type": "code",
   "execution_count": 5,
   "metadata": {},
   "outputs": [],
   "source": [
    "destinations = airports.loc[airports['iata_code'].isin(['RTM', 'AEY', 'AGP', 'AHU', 'ALC', 'LEI',\n",
    "                                                        'AYT', 'BCN', 'BIA', 'EGC', 'BDS', 'CFU',\n",
    "                                                        'DBV', 'EDI', 'FAO', 'FEZ', 'FUE', 'GVA',\n",
    "                                                        'GRO', 'LPA', 'GNB', 'GCI', 'HRG', 'IBZ',\n",
    "                                                        'INN', 'SAW', 'JER', 'ASR', 'KTT', 'KYA',\n",
    "                                                        'KGS', 'HER', 'KAO', 'ACE.', 'LIS', 'LCY',\n",
    "                                                        'RAK', 'BGY', 'MPL', 'NDR', 'OUD', 'PMI',\n",
    "                                                        'PEG', 'PUY', 'RHO', 'FCO', 'RVN', 'SZG',\n",
    "                                                        'SSH', 'PMO', 'SFT', 'SPU', 'TNG', 'TFS',\n",
    "                                                        'TLN', 'VLC', 'ZAD','ZTH'\n",
    "])]"
   ]
  },
  {
   "cell_type": "code",
   "execution_count": 6,
   "metadata": {},
   "outputs": [],
   "source": [
    "def popup_html(row):\n",
    "    i = row\n",
    "    airport_name=destinations['name'].iloc[i]\n",
    "    city = destinations['municipality'].iloc[i]\n",
    "    airport_code = destinations['gps_code'].iloc[i] +\" // \"+ destinations['iata_code'].iloc[i]        \n",
    "    airport_elv = destinations['elevation_ft'].iloc[i]\n",
    "    airport_lat=destinations['latitude_deg'].iloc[i]\n",
    "    airport_long = destinations['longitude_deg'].iloc[i] \n",
    "   \n",
    "\n",
    "    left_col_color = \"#C63038\"\n",
    "    right_col_color = \"#f4f4f4\"\n",
    "    \n",
    "    html = \"\"\"<!DOCTYPE html>\n",
    "<html>\n",
    "<head>\n",
    "\n",
    "</head>\n",
    "<h4 style=\"margin-bottom:10\"; width=\"200px\">{}</h4>\"\"\".format(airport_name) + \"\"\"\n",
    "\n",
    "    <table style=\"height: 126px; width: 350px;\">\n",
    "<tbody>\n",
    "\n",
    "<tr>\n",
    "<td style=\"background-color: \"\"\"+ left_col_color +\"\"\";\"><span style=\"color: #ffffff;\">City</span></td>\n",
    "<td style=\"width: 150px;background-color: \"\"\"+ right_col_color +\"\"\";\">{}</td>\"\"\".format(city) + \"\"\"\n",
    "</tr>\n",
    "\n",
    "<tr>\n",
    "<td style=\"background-color: \"\"\"+ left_col_color +\"\"\";\"><span style=\"color: #ffffff;\">Airport Codes</span></td>\n",
    "<td style=\"width: 150px;background-color: \"\"\"+ right_col_color +\"\"\";\">{}</td>\"\"\".format(airport_code) + \"\"\"\n",
    "</tr>\n",
    "\n",
    "<tr>\n",
    "<td style=\"background-color: \"\"\"+ left_col_color +\"\"\";\"><span style=\"color: #ffffff;\">Airport Elevation</span></td>\n",
    "<td style=\"width: 150px;background-color: \"\"\"+ right_col_color +\"\"\";\">{}</td>\"\"\".format(airport_elv) + \"\"\"\n",
    "</tr>\n",
    "\n",
    "<tr>\n",
    "<td style=\"background-color: \"\"\"+ left_col_color +\"\"\";\"><span style=\"color: #ffffff;\">Latitude</span></td>\n",
    "<td style=\"width: 150px;background-color: \"\"\"+ right_col_color +\"\"\";\">{}</td>\"\"\".format(airport_lat) + \"\"\"\n",
    "</tr>\n",
    "\n",
    "<tr>\n",
    "<td style=\"background-color: \"\"\"+ left_col_color +\"\"\";\"><span style=\"color: #ffffff;\">Longitude</span></td>\n",
    "<td style=\"width: 150px;background-color: \"\"\"+ right_col_color +\"\"\";\">{}</td>\"\"\".format(airport_long) + \"\"\"\n",
    "</tr>\n",
    "\n",
    "</tbody>\n",
    "</table>\n",
    "</html>\n",
    "\"\"\"\n",
    "    return html"
   ]
  },
  {
   "cell_type": "code",
   "execution_count": 7,
   "metadata": {},
   "outputs": [],
   "source": [
    "location = destinations['latitude_deg'].mean(), destinations['longitude_deg'].mean() #Specify the center of the map by using the average of latitude and longitude coordinates\n",
    "\n",
    "m = folium.Map(location=location, zoom_start=3.5, zoom_control=False, scrollwheelzoom=False, dragging=False)\n",
    "\n",
    "for i in range(0, len(destinations)):\n",
    "    rtha = destinations['iata_code'].iloc[i]\n",
    "    if rtha == 'RTM':\n",
    "        color = '#FFBA08'\n",
    "    else:\n",
    "        color='#C63038'\n",
    "\n",
    "    html = popup_html(i)\n",
    "    iframe = branca.element.IFrame(html=html,width=510,height=280)\n",
    "    popup = folium.Popup(folium.Html(html, script=True), max_width=500)\n",
    "\n",
    "    folium.CircleMarker(\n",
    "        radius= 1,\n",
    "        location= [destinations['latitude_deg'].iloc[i], destinations['longitude_deg'].iloc[i]],\n",
    "        color=color,\n",
    "        popup= popup\n",
    "    ).add_to(m)\n",
    "\n",
    "folium.TileLayer('cartodbdark_matter').add_to(m)\n",
    "m.save('map.html')"
   ]
  }
 ],
 "metadata": {
  "kernelspec": {
   "display_name": "base",
   "language": "python",
   "name": "python3"
  },
  "language_info": {
   "codemirror_mode": {
    "name": "ipython",
    "version": 3
   },
   "file_extension": ".py",
   "mimetype": "text/x-python",
   "name": "python",
   "nbconvert_exporter": "python",
   "pygments_lexer": "ipython3",
   "version": "3.9.13 (main, Aug 25 2022, 23:51:50) [MSC v.1916 64 bit (AMD64)]"
  },
  "orig_nbformat": 4,
  "vscode": {
   "interpreter": {
    "hash": "034e34c7b2fda54df6a62c04efebeef4560763eed2e6cd3379115013cbd48730"
   }
  }
 },
 "nbformat": 4,
 "nbformat_minor": 2
}
