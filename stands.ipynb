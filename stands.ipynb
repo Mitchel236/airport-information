{
 "cells": [
  {
   "cell_type": "code",
   "execution_count": 1,
   "metadata": {},
   "outputs": [],
   "source": [
    "import pandas as pd"
   ]
  },
  {
   "cell_type": "code",
   "execution_count": 2,
   "metadata": {},
   "outputs": [],
   "source": [
    "stands_poly = pd.read_csv(\"RTHA - GATES.csv\", delimiter=\",\")\n",
    "stands_geo = pd.read_csv(\"stand-information.csv\", delimiter=\",\")"
   ]
  },
  {
   "cell_type": "code",
   "execution_count": 3,
   "metadata": {},
   "outputs": [],
   "source": [
    "stands_poly.rename(columns={'WKT':'geometry','naam':'stand'},inplace=True)\n",
    "stands_poly.drop(columns=['beschrijving'],inplace=True)"
   ]
  },
  {
   "cell_type": "code",
   "execution_count": 4,
   "metadata": {},
   "outputs": [],
   "source": [
    "stands_geo.rename(columns={'STAND':'stand','LATITUDE':'lat', 'LONGITUDE':'lon'},inplace=True)"
   ]
  },
  {
   "cell_type": "code",
   "execution_count": 6,
   "metadata": {},
   "outputs": [],
   "source": [
    "stands = stands_poly.merge(stands_geo, how='inner', on='stand')"
   ]
  },
  {
   "cell_type": "code",
   "execution_count": 8,
   "metadata": {},
   "outputs": [
    {
     "data": {
      "text/html": [
       "<div>\n",
       "<style scoped>\n",
       "    .dataframe tbody tr th:only-of-type {\n",
       "        vertical-align: middle;\n",
       "    }\n",
       "\n",
       "    .dataframe tbody tr th {\n",
       "        vertical-align: top;\n",
       "    }\n",
       "\n",
       "    .dataframe thead th {\n",
       "        text-align: right;\n",
       "    }\n",
       "</style>\n",
       "<table border=\"1\" class=\"dataframe\">\n",
       "  <thead>\n",
       "    <tr style=\"text-align: right;\">\n",
       "      <th></th>\n",
       "      <th>stand</th>\n",
       "      <th>lat</th>\n",
       "      <th>lon</th>\n",
       "      <th>geometry</th>\n",
       "    </tr>\n",
       "  </thead>\n",
       "  <tbody>\n",
       "    <tr>\n",
       "      <th>0</th>\n",
       "      <td>A1</td>\n",
       "      <td>51.951526</td>\n",
       "      <td>4.432829</td>\n",
       "      <td>POLYGON ((4.4330177 51.9517182, 4.4324745 51.9...</td>\n",
       "    </tr>\n",
       "    <tr>\n",
       "      <th>1</th>\n",
       "      <td>A2</td>\n",
       "      <td>51.951753</td>\n",
       "      <td>4.433398</td>\n",
       "      <td>POLYGON ((4.4334397 51.9513407, 4.4339896 51.9...</td>\n",
       "    </tr>\n",
       "    <tr>\n",
       "      <th>2</th>\n",
       "      <td>A3</td>\n",
       "      <td>51.951981</td>\n",
       "      <td>4.433964</td>\n",
       "      <td>POLYGON ((4.4336044 51.9519531, 4.4340068 51.9...</td>\n",
       "    </tr>\n",
       "    <tr>\n",
       "      <th>3</th>\n",
       "      <td>B1</td>\n",
       "      <td>51.950771</td>\n",
       "      <td>4.433619</td>\n",
       "      <td>POLYGON ((4.43328 51.9507304, 4.4336662 51.950...</td>\n",
       "    </tr>\n",
       "    <tr>\n",
       "      <th>4</th>\n",
       "      <td>B2</td>\n",
       "      <td>51.950999</td>\n",
       "      <td>4.434187</td>\n",
       "      <td>POLYGON ((4.4338434 51.9509561, 4.4342309 51.9...</td>\n",
       "    </tr>\n",
       "  </tbody>\n",
       "</table>\n",
       "</div>"
      ],
      "text/plain": [
       "  stand        lat       lon  \\\n",
       "0    A1  51.951526  4.432829   \n",
       "1    A2  51.951753  4.433398   \n",
       "2    A3  51.951981  4.433964   \n",
       "3    B1  51.950771  4.433619   \n",
       "4    B2  51.950999  4.434187   \n",
       "\n",
       "                                            geometry  \n",
       "0  POLYGON ((4.4330177 51.9517182, 4.4324745 51.9...  \n",
       "1  POLYGON ((4.4334397 51.9513407, 4.4339896 51.9...  \n",
       "2  POLYGON ((4.4336044 51.9519531, 4.4340068 51.9...  \n",
       "3  POLYGON ((4.43328 51.9507304, 4.4336662 51.950...  \n",
       "4  POLYGON ((4.4338434 51.9509561, 4.4342309 51.9...  "
      ]
     },
     "execution_count": 8,
     "metadata": {},
     "output_type": "execute_result"
    }
   ],
   "source": [
    "col = stands.pop('geometry')\n",
    "stands.insert(3, col.name, col)\n",
    "stands.head()"
   ]
  },
  {
   "cell_type": "code",
   "execution_count": 9,
   "metadata": {},
   "outputs": [],
   "source": [
    "# stands.to_csv(\"stands.csv\",index=False)"
   ]
  }
 ],
 "metadata": {
  "kernelspec": {
   "display_name": "DataScience",
   "language": "python",
   "name": "python3"
  },
  "language_info": {
   "codemirror_mode": {
    "name": "ipython",
    "version": 3
   },
   "file_extension": ".py",
   "mimetype": "text/x-python",
   "name": "python",
   "nbconvert_exporter": "python",
   "pygments_lexer": "ipython3",
   "version": "3.9.15 (main, Nov 24 2022, 14:39:17) [MSC v.1916 64 bit (AMD64)]"
  },
  "orig_nbformat": 4,
  "vscode": {
   "interpreter": {
    "hash": "54f96895ce0d87ba0349660c2b8454d597e9ed51901721a2d4c1bd55409c6258"
   }
  }
 },
 "nbformat": 4,
 "nbformat_minor": 2
}
